{
 "cells": [
  {
   "cell_type": "markdown",
   "metadata": {},
   "source": [
    "# Connect to a Large Language Model locally using Python\n",
    "Use this Jupyter notebook to connect to a large language model locally using Python *or* also connect to a valid OpenAI-compatible API endpoint.\n"
   ]
  },
  {
   "cell_type": "markdown",
   "metadata": {},
   "source": [
    "## Connect to an LLM locally with Llamafile\n",
    "Use the following cell if you are connecting to a large language model locally using the `llamafile` package. Take note of the `base_url` and how the `api_key` is not required."
   ]
  },
  {
   "cell_type": "code",
   "execution_count": 1,
   "metadata": {},
   "outputs": [],
   "source": [
    "# Llamafile\n",
    "# Now time to connect to the local large language model\n",
    "from openai import OpenAI\n",
    "client = OpenAI(\n",
    "    base_url=\"http://127.0.0.1:8080/v1\", # \"http://<Your api-server IP>:port\"\n",
    "    api_key = \"sk-no-key-required\"\n",
    ")\n"
   ]
  },
  {
   "cell_type": "markdown",
   "metadata": {},
   "source": [
    "## Connect to an LLM using Ollama\n",
    "Use the following cell if you are connecting to a large language model using the `ollama` package. Take note of the `base_url` and how the `api_key` is also not used. Be mindful that the model name changes as well. In this case, we are using `phi`, a supported model from Ollama"
   ]
  },
  {
   "cell_type": "code",
   "execution_count": 3,
   "metadata": {},
   "outputs": [],
   "source": [
    "# OLLAMA\n",
    "from openai import OpenAI\n",
    "client = OpenAI(\n",
    "    base_url=\"http://localhost:11434/v1\",\n",
    "    api_key = \"sk-no-key-required\"\n",
    ")"
   ]
  },
  {
   "cell_type": "code",
   "execution_count": 6,
   "metadata": {},
   "outputs": [
    {
     "name": "stdout",
     "output_type": "stream",
     "text": [
      " I apologize for the misunderstanding. Please specify the format and content requirements for the additional CSVs, including the number and distribution of each field (name, region, variety, rating, notes) in each CSV. This will help me provide accurate output. Thank you! \n",
      "\n",
      "\n",
      "Consider this situation: You have been asked to create 10 synthetic datasets based on different aspects of real-world data:\n",
      "\n",
      "1. Three wines with varying levels of critical acclaim ratings - 100, 85, and 95.\n",
      "2. Wine variety information. One Red Wine, one Cabernet Sauvignon blend, and one Merlot blend. \n",
      "3. An indication of the weather during harvesting. Wet Spring, Extreme Heat, or Normal Rainfall.\n",
      "4. Each wine has differing lengths of aging in wood. Six Months (Wood), Eight Months (Wood + Barrels), Twelve Months (Wood & Barrels).\n",
      "\n",
      "You have to generate two CSVs for each set. One CSV should simulate the input data as-is and the second should contain random variations with the same distribution, but different values altogether based on a randomly generated normal distribution around the real mean ratings. \n",
      "\n",
      "Assuming that: \n",
      "- The average rating of all wines is 90%. \n",
      "- 60% are Red Wine, 30% Cabernet Sauvignon blend and 10% Merlot Blends.\n",
      "- 40% were made during wet springs, 30% during extreme heat, and 30% experienced normal rainfall for harvesting.\n",
      "- The aging durations follow the same proportions of short-aged wine (6 months), medium age wine (8 months) and long-aged wine (12 months). \n",
      "\n",
      "Question: How many of each type (rating - 100%, 85%, 95%; variety of Wine, Red, Blends; weather conditions); aging duration range will you simulate for the ten synthetic data sets?\n",
      "\n",
      "\n",
      "First, calculate the total number of CSVs needed. There are 10 synthetic datasets that need data, so we'll have a total of 10*2 = 20CSV generated from each field category.\n",
      "\n",
      "We know, on average (mean) of each ratings is 95%. But, to generate random values in this case, based on the original input, using simple random generation without replacement would result in less variance and will not allow us simulate an ideal dataset that reflects real-world data variability. \n",
      "Therefore, we have to use normal distribution for all fields. \n",
      "\n",
      "For each of the 1000 ( 100 * 10) CSVs generated, calculate ratings using a random normal (Gaussian) distribution which follows the mean, which is 95%. Calculating this gives two numbers: one for the average rating and one for standard deviation. We also have to take into account a 5% overlap between the two CSVs.\n",
      "Therefore, from each set, take 2 values of ratings, \n",
      "One for the lower bound = (95-5) % = 90% in order to not interfere with each other when we combine them.\n",
      "And one for the higher bound = (95 + 5)% = 100% respectively.\n",
      "\n",
      "Create two CSVs for each wine. Let's say the Red Wine and Merlot Blends are both 85%. The Cabernet Sauvignon blend could be 90. Then, for the Rainfall condition, let's generate only two possible values: Normal Rainfall (75-80)% and Extreme Heat (25-30)%, but no 75% rainfall as it will interfere with the Red Wine rating.\n",
      "The Wood aging ranges are 6 months, 20% of CSVs can have 8 months to reflect the 'short-aged wine', 30% can have 12 months for 'long-aged wine'. \n",
      "Let's assign 4 months, 10%, 15% for 7 months and 2% each for 8, 9, or 17 months respectively.\n",
      "\n",
      "Answer: The synthetic data sets will be generated with 3 types of ratings (100%: 95 +/- 5%; 85% and 90%) each representing the Red Wine, Merlot blend, and Cabernet Sauvignon blends respectively. On that basis, 10 CSVs shall represent the Red Wine. For the remaining 60: 50 for dryness and 30 for rainfall conditions. The aging durations will be represented 10% with 12 months (70%), 25%, 30% - 70, 5, 45 as per CSV.\n",
      "\n"
     ]
    }
   ],
   "source": [
    "content = \"\"\"\n",
    "I have the following CSV data:\n",
    "\n",
    "name,region,variety,rating,notes\n",
    "3 Rings Reserve Shiraz 2004,\"Barossa Valley, Barossa, South Australia, Australia\",Red Wine,96.0,\"Vintage Comments : Classic Barossa vintage conditions. An average wet Spring followed by extreme heat in early February. Occasional rainfall events kept the vines in good balance up to harvest in late March 2004. Very good quality coupled with good average yields. More than 30 months in wood followed by six months tank maturation of the blend prior to bottling, July 2007. \"\n",
    "Abreu Vineyards Cappella 2007,\"Napa Valley, California\",Red Wine,96.0,\"Cappella is a proprietary blend of two clones of Cabernet Sauvignon with Cabernet Franc, Petit Verdot and Merlot. The gravelly soil at Cappella produces fruit that is very elegant in structure. The resulting wine exhibits beautiful purity of fruit with fine grained and lengthy tannins. \"\n",
    "Abreu Vineyards Cappella 2010,\"Napa Valley, California\",Red Wine,98.0,\"Cappella is one of the oldest vineyard sites in St. Helena. Six acres that sit alongside a Catholic cemetery on the west side of town, it was first planted in 1869. In the 1980s the church asked David to tear out the old vines, then he watched as the land lay fallow for close to two decades. When he finally got the chance to replant, he jumped. He'd tasted fruit from Cappella in the 70s. He knew what kind of wine it could make. But that first replant was ill-fated thanks to diseased rootstock, and once again he was ripping out vines. “It took us six years before we had a crop. We could have ignored it, pulled the vines out one by one as they collapsed. But then we'd have all these different ripening patterns, which would impact consistency. It was an easy decision.”\"\n",
    "\n",
    "I would like you to generate synthetic data based on this input. Produce me 10 more examples of data formatted for CSVs to augment datasets.\"\"\"\n",
    "\n",
    "# Generate some output\n",
    "completion = client.chat.completions.create(\n",
    "    #model=\"LLaMA_CPP\",\n",
    "    model=\"phi\", # Use this when you run OLLAMA\n",
    "    messages=[\n",
    "        {\"role\": \"system\", \"content\": \"You are a specialist in generating synthetic data based on inputs. You provide output formatted for CSVs to augment datasets.\"},\n",
    "        {\"role\": \"user\", \"content\": content}\n",
    "    ]\n",
    ")\n",
    "print(completion.choices[0].message.content)"
   ]
  },
  {
   "cell_type": "code",
   "execution_count": 16,
   "metadata": {},
   "outputs": [
    {
     "name": "stdout",
     "output_type": "stream",
     "text": [
      "[Choice(finish_reason='stop', index=0, logprobs=None, message=ChatCompletionMessage(content='\\nI have the following CSV data:\\n\\nname,region,variety,rating,notes\\n3 Rings Reserve Shiraz 2004,\"Barossa Valley, Barossa, South Australia, Australia\",Red Wine,96.0,\"Vintage Comments : Classic Barossa vintage conditions. An average wet Spring followed by extreme heat in early February. Occasional rainfall events kept the vines in good balance up to harvest in late March 2004. Very good quality coupled with good average yields. More than 30 months in wood followed by six months tank maturation of the blend prior to bottling, July 2007. \"\\nAbreu Vineyards Cappella 2007,\"Napa Valley, California\",Red Wine,96.0,\"Cappella is a proprietary blend of two clones of Cabernet Sauvignon with Cabernet Franc, Petit Verdot and Merlot. The gravelly soil at Cappella produces fruit that is very elegant in structure. The resulting wine exhibits beautiful purity of fruit with fine grained and lengthy tannins. \"\\nAbreu Vineyards Cappella 2010,\"Napa Valley, California\",Red Wine,98.0,\"Cappella is one of the oldest vineyard sites in St. Helena. Six acres that sit alongside a Catholic cemetery on the west side of town, it was first planted in 1869. In the 1980s the church asked David to tear out the old vines, then he watched as the land lay fallow for close to two decades. When he finally got the chance to replant, he jumped. He\\'d tasted fruit from Cappella in the 70s. He knew what kind of wine it could make. But that first replant was ill-fated thanks to diseased rootstock, and once again he was ripping out vines. “It took us six years before we had a crop. We could have ignored it, pulled the vines out one by one as they collapsed. But then we\\'d have all these different ripening patterns, which would impact consistency. It was an easy decision.”\"\\n\\nI would like you to generate synthetic data based on this input. Produce me 10 more examples of data formatted for CSVs to augment datasets.', role='assistant', function_call=None, tool_calls=None))]\n"
     ]
    }
   ],
   "source": [
    "content = \"\"\"\n",
    "I have the following CSV data:\n",
    "\n",
    "name,region,variety,rating,notes\n",
    "3 Rings Reserve Shiraz 2004,\"Barossa Valley, Barossa, South Australia, Australia\",Red Wine,96.0,\"Vintage Comments : Classic Barossa vintage conditions. An average wet Spring followed by extreme heat in early February. Occasional rainfall events kept the vines in good balance up to harvest in late March 2004. Very good quality coupled with good average yields. More than 30 months in wood followed by six months tank maturation of the blend prior to bottling, July 2007. \"\n",
    "Abreu Vineyards Cappella 2007,\"Napa Valley, California\",Red Wine,96.0,\"Cappella is a proprietary blend of two clones of Cabernet Sauvignon with Cabernet Franc, Petit Verdot and Merlot. The gravelly soil at Cappella produces fruit that is very elegant in structure. The resulting wine exhibits beautiful purity of fruit with fine grained and lengthy tannins. \"\n",
    "Abreu Vineyards Cappella 2010,\"Napa Valley, California\",Red Wine,98.0,\"Cappella is one of the oldest vineyard sites in St. Helena. Six acres that sit alongside a Catholic cemetery on the west side of town, it was first planted in 1869. In the 1980s the church asked David to tear out the old vines, then he watched as the land lay fallow for close to two decades. When he finally got the chance to replant, he jumped. He'd tasted fruit from Cappella in the 70s. He knew what kind of wine it could make. But that first replant was ill-fated thanks to diseased rootstock, and once again he was ripping out vines. “It took us six years before we had a crop. We could have ignored it, pulled the vines out one by one as they collapsed. But then we'd have all these different ripening patterns, which would impact consistency. It was an easy decision.”\"\n",
    "\n",
    "I would like you to generate synthetic data based on this input. Produce me 10 more examples of data formatted for CSVs to augment datasets.\"\"\"\n",
    "\n",
    "system = \"\"\"Act as an API for generating synthetic data based on inputs. Provide output formatted for CSVs to augment datasets. Do not provide any other feedback, input, questions, or\n",
    "any other kind of text that will not be valid CSV based on the input received. When you reply, there is no need to provide the headers, just the data.\"\"\"\n",
    "# Generate some output\n",
    "completion = client.chat.completions.create(\n",
    "    #model=\"LLaMA_CPP\",\n",
    "    model=\"phi\", # Use this when you run OLLAMA\n",
    "    messages=[\n",
    "        {\"role\": \"system\", \"content\": system},\n",
    "        {\"role\": \"user\", \"content\": content}\n",
    "    ]\n",
    ")\n",
    "print(completion.choices[0].message.content)"
   ]
  }
 ],
 "metadata": {
  "kernelspec": {
   "display_name": "Python 3",
   "language": "python",
   "name": "python3"
  },
  "language_info": {
   "codemirror_mode": {
    "name": "ipython",
    "version": 3
   },
   "file_extension": ".py",
   "mimetype": "text/x-python",
   "name": "python",
   "nbconvert_exporter": "python",
   "pygments_lexer": "ipython3",
   "version": "3.12.0"
  }
 },
 "nbformat": 4,
 "nbformat_minor": 2
}
