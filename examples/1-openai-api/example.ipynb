{
 "cells": [
  {
   "cell_type": "markdown",
   "metadata": {},
   "source": [
    "# Connect to a Large Language Model locally using Python\n",
    "Use this Jupyter notebook to connect to a large language model locally using Python *or* also connect to a valid OpenAI-compatible API endpoint.\n"
   ]
  },
  {
   "cell_type": "markdown",
   "metadata": {},
   "source": [
    "## Connect to an LLM locally with Llamafile\n",
    "Use the following cell if you are connecting to a large language model locally using the `llamafile` package. Take note of the `base_url` and how the `api_key` is not required."
   ]
  },
  {
   "cell_type": "code",
   "execution_count": 1,
   "metadata": {},
   "outputs": [],
   "source": [
    "# Llamafile\n",
    "# Now time to connect to the local large language model\n",
    "from openai import OpenAI\n",
    "client = OpenAI(\n",
    "    base_url=\"http://127.0.0.1:8080/v1\", # \"http://<Your api-server IP>:port\"\n",
    "    api_key = \"sk-no-key-required\"\n",
    ")\n"
   ]
  },
  {
   "cell_type": "markdown",
   "metadata": {},
   "source": [
    "## Connect to an LLM using Ollama\n",
    "Use the following cell if you are connecting to a large language model using the `ollama` package. Take note of the `base_url` and how the `api_key` is also not used. Be mindful that the model name changes as well. In this case, we are using `phi`, a supported model from Ollama"
   ]
  },
  {
   "cell_type": "code",
   "execution_count": 3,
   "metadata": {},
   "outputs": [],
   "source": [
    "# OLLAMA\n",
    "from openai import OpenAI\n",
    "client = OpenAI(\n",
    "    base_url=\"http://localhost:11434/v1\",\n",
    "    api_key = \"sk-no-key-required\"\n",
    ")"
   ]
  },
  {
   "cell_type": "code",
   "execution_count": 11,
   "metadata": {},
   "outputs": [
    {
     "name": "stdout",
     "output_type": "stream",
     "text": [
      "Based on the provided data, I'll generate 10 new examples with similar characteristics. Please note that I've tried to maintain the same structure and style as the original data.\n",
      "\n",
      "Here are the synthetically generated data points:\n",
      "\n",
      "1. `name,region,variety,rating,notes`\n",
      "```\n",
      "De Souto Wines Montepulciano 2009,\"Salerno Region, Italy\",White Wine,95.5,\"Complex blend of indigenous grape varieties from Aglianico, Fianaia and Tropea, ripened under optimal temperatures to preserve vibrant acidity.\"\n",
      "```\n"
     ]
    }
   ],
   "source": [
    "content = \"\"\"\n",
    "I have the following CSV data:\n",
    "\n",
    "name,region,variety,rating,notes\n",
    "3 Rings Reserve Shiraz 2004,\"Barossa Valley, Barossa, South Australia, Australia\",Red Wine,96.0,\"Vintage Comments : Classic Barossa vintage conditions. An average wet Spring followed by extreme heat in early February. Occasional rainfall events kept the vines in good balance up to harvest in late March 2004. Very good quality coupled with good average yields. More than 30 months in wood followed by six months tank maturation of the blend prior to bottling, July 2007. \"\n",
    "Abreu Vineyards Cappella 2007,\"Napa Valley, California\",Red Wine,96.0,\"Cappella is a proprietary blend of two clones of Cabernet Sauvignon with Cabernet Franc, Petit Verdot and Merlot. The gravelly soil at Cappella produces fruit that is very elegant in structure. The resulting wine exhibits beautiful purity of fruit with fine grained and lengthy tannins. \"\n",
    "Abreu Vineyards Cappella 2010,\"Napa Valley, California\",Red Wine,98.0,\"Cappella is one of the oldest vineyard sites in St. Helena. Six acres that sit alongside a Catholic cemetery on the west side of town, it was first planted in 1869. In the 1980s the church asked David to tear out the old vines, then he watched as the land lay fallow for close to two decades. When he finally got the chance to replant, he jumped. He'd tasted fruit from Cappella in the 70s. He knew what kind of wine it could make. But that first replant was ill-fated thanks to diseased rootstock, and once again he was ripping out vines. “It took us six years before we had a crop. We could have ignored it, pulled the vines out one by one as they collapsed. But then we'd have all these different ripening patterns, which would impact consistency. It was an easy decision.”\"\n",
    "\n",
    "I would like you to generate synthetic data based on this input. Produce me 10 more examples of data formatted for CSVs to augment datasets.\"\"\"\n",
    "\n",
    "# Generate some output\n",
    "completion = client.chat.completions.create(\n",
    "    #model=\"LLaMA_CPP\",\n",
    "    model=\"llama3.2:3b\", # Use this when you run OLLAMA\n",
    "    messages=[\n",
    "        {\"role\": \"system\", \"content\": \"You are a specialist in generating synthetic data based on inputs. You provide output formatted for CSVs to augment datasets.\"},\n",
    "        {\"role\": \"user\", \"content\": content}\n",
    "    ]\n",
    ")\n",
    "print(completion.choices[0].message.content)"
   ]
  },
  {
   "cell_type": "code",
   "execution_count": 10,
   "metadata": {},
   "outputs": [
    {
     "name": "stdout",
     "output_type": "stream",
     "text": [
      "name,region,variety,rating,notes\n",
      "Wincraft Estate Shiraz 2002,\"McLaren Vale, South Australia\",Red Wine,94.5,\"Winemaker's notes: Rich berry flavors, full-bodied. Smooth tannins and a satisfying finish. Great example of the local cooler climate region.\"\n",
      "De Toren Farmhouse Red Blend 2011,\"KwaZulu-Natal, South Africa\",Red Wine,95.0,\"The perfect blend of traditional methods with a modern twist. Aged for an additional six months in fine French oak, offering deep, rich flavors and velvety tannins. The name 'Farmhouse' indicates the simple, rustic winemaking process which results in our full-bodied red.\"\n",
      "Quinta da Cadima Single Quinta Port 2001,\"Dão, Portugal\",Port,91.5,\"A single quinta (plot) from a single vineyard of over 40 hectares giving it a unique character while maintaining a classic Douro Valley style. Soft, fruity and sweet wine with a rich flavor and long finish.\"\n",
      "Rohan Murray St Columb's Red 2018,\"Mourvèdre, Rhône Valley\",Red Wine,92.0,\"A small production from the top vineyard of Rhône producer Rhône Valley winery, sourced exclusively using single-vineyard and multi-vintage vines giving a crisp structure with smooth dark berry flavors.\"\n",
      "Château La Tour Carnet Haut- Médocs 2012,\"Bordeaux, France\",Red Wine,97.5,\"A flagship wine of the estate with great consistency and proven quality over the years. It is made from 80% Cabernet Sauvignon, 12% Merlot and 8% Petit Verdot, showcasing full-bodied wines with layers of complex fruit flavors.\"\n",
      "Wynns Coonawarra Estate John Riddell Shiraz 2005,\"Coonawarra, South Australia\",Red Wine,93.0,\"Aged for two years in American oak tanks before a small amount was bottled over 6 months into French oak barriques giving it an additional layer of depth of flavor and texture.\"\n",
      "Domaine des Baumettes Rosé 2017,\"Provence, France\",Rosé,95.25,\"Crisp acidity balanced with the complexity of the wine offering fresh flavors of strawberry, watermelon, and citrus while possessing elegance\"\n",
      "Red Hill Estate Old Vine Shiraz 2009,\"Yarra Valley, Australia\",Red Wine,91.5\",\"Small batch from a variety of vineyards ranging in age to over 70 years.\"\n",
      "Château Pape Clément Rouge 2010,\"Pessac-Léognan\",Red Wine,98.75,\"One of the flagship wines of the estate located on Grand Puy Les Quarts, it's made exclusively from the best Cabernet Sauvignon grapes. Full-bodied and smooth.\"\n"
     ]
    }
   ],
   "source": [
    "content = \"\"\"\n",
    "I have the following CSV data:\n",
    "\n",
    "name,region,variety,rating,notes\n",
    "3 Rings Reserve Shiraz 2004,\"Barossa Valley, Barossa, South Australia, Australia\",Red Wine,96.0,\"Vintage Comments : Classic Barossa vintage conditions. An average wet Spring followed by extreme heat in early February. Occasional rainfall events kept the vines in good balance up to harvest in late March 2004. Very good quality coupled with good average yields. More than 30 months in wood followed by six months tank maturation of the blend prior to bottling, July 2007. \"\n",
    "Abreu Vineyards Cappella 2007,\"Napa Valley, California\",Red Wine,96.0,\"Cappella is a proprietary blend of two clones of Cabernet Sauvignon with Cabernet Franc, Petit Verdot and Merlot. The gravelly soil at Cappella produces fruit that is very elegant in structure. The resulting wine exhibits beautiful purity of fruit with fine grained and lengthy tannins. \"\n",
    "Abreu Vineyards Cappella 2010,\"Napa Valley, California\",Red Wine,98.0,\"Cappella is one of the oldest vineyard sites in St. Helena. Six acres that sit alongside a Catholic cemetery on the west side of town, it was first planted in 1869. In the 1980s the church asked David to tear out the old vines, then he watched as the land lay fallow for close to two decades. When he finally got the chance to replant, he jumped. He'd tasted fruit from Cappella in the 70s. He knew what kind of wine it could make. But that first replant was ill-fated thanks to diseased rootstock, and once again he was ripping out vines. “It took us six years before we had a crop. We could have ignored it, pulled the vines out one by one as they collapsed. But then we'd have all these different ripening patterns, which would impact consistency. It was an easy decision.”\"\n",
    "\n",
    "I would like you to generate synthetic data based on this input. Produce me 10 more examples of data formatted for CSVs to augment datasets.\"\"\"\n",
    "\n",
    "system = \"\"\"Act as an API for generating synthetic data based on inputs. Provide output formatted for CSVs to augment datasets. Do not provide any other feedback, input, questions, or\n",
    "any other kind of text that will not be valid CSV based on the input received. When you reply, there is no need to provide the headers, just the data.\"\"\"\n",
    "# Generate some output\n",
    "completion = client.chat.completions.create(\n",
    "    #model=\"LLaMA_CPP\",\n",
    "    model=\"llama3.2:3b\", # Use this when you run OLLAMA\n",
    "    messages=[\n",
    "        {\"role\": \"system\", \"content\": system},\n",
    "        {\"role\": \"user\", \"content\": content}\n",
    "    ]\n",
    ")\n",
    "print(completion.choices[0].message.content)"
   ]
  }
 ],
 "metadata": {
  "kernelspec": {
   "display_name": "Python 3",
   "language": "python",
   "name": "python3"
  },
  "language_info": {
   "codemirror_mode": {
    "name": "ipython",
    "version": 3
   },
   "file_extension": ".py",
   "mimetype": "text/x-python",
   "name": "python",
   "nbconvert_exporter": "python",
   "pygments_lexer": "ipython3",
   "version": "3.12.0"
  }
 },
 "nbformat": 4,
 "nbformat_minor": 2
}
